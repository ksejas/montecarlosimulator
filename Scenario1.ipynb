{
 "cells": [
  {
   "cell_type": "code",
   "execution_count": 63,
   "id": "20514526",
   "metadata": {},
   "outputs": [],
   "source": [
    "!python \"/Users/kys/Downloads/DS5100/Project/Die_Class.py\""
   ]
  },
  {
   "cell_type": "code",
   "execution_count": 77,
   "id": "3024488f",
   "metadata": {},
   "outputs": [],
   "source": [
    "#!python \"/Users/kys/Downloads/DS5100/Project/Die_test.py\""
   ]
  },
  {
   "cell_type": "code",
   "execution_count": 65,
   "id": "edaf1d83",
   "metadata": {},
   "outputs": [],
   "source": [
    "!python \"/Users/kys/Downloads/DS5100/Project/Game_Class.py\""
   ]
  },
  {
   "cell_type": "code",
   "execution_count": 66,
   "id": "280ddfa0",
   "metadata": {},
   "outputs": [],
   "source": [
    "#!python \"/Users/kys/Downloads/DS5100/Project/Game_test.py\""
   ]
  },
  {
   "cell_type": "markdown",
   "id": "54f52da2",
   "metadata": {},
   "source": [
    "# Scenario 1: 2-Headed Coin\n",
    "1. Create one fair coin (with faces H and T) and one unfair coin. For the unfair coin, give one of the faces a weight of 5 and the others 1. "
   ]
  },
  {
   "cell_type": "code",
   "execution_count": 67,
   "id": "cd3c7697",
   "metadata": {},
   "outputs": [],
   "source": [
    "import pandas as pd\n",
    "import numpy as np\n"
   ]
  },
  {
   "cell_type": "code",
   "execution_count": 68,
   "id": "8424ac6d",
   "metadata": {},
   "outputs": [],
   "source": [
    "!python \"/Users/kys/Downloads/DS5100/Project/Die_Class.py\" "
   ]
  },
  {
   "cell_type": "code",
   "execution_count": 69,
   "id": "67fd7dba",
   "metadata": {},
   "outputs": [
    {
     "data": {
      "text/html": [
       "<div>\n",
       "<style scoped>\n",
       "    .dataframe tbody tr th:only-of-type {\n",
       "        vertical-align: middle;\n",
       "    }\n",
       "\n",
       "    .dataframe tbody tr th {\n",
       "        vertical-align: top;\n",
       "    }\n",
       "\n",
       "    .dataframe thead th {\n",
       "        text-align: right;\n",
       "    }\n",
       "</style>\n",
       "<table border=\"1\" class=\"dataframe\">\n",
       "  <thead>\n",
       "    <tr style=\"text-align: right;\">\n",
       "      <th></th>\n",
       "      <th>w</th>\n",
       "      <th>faces</th>\n",
       "    </tr>\n",
       "  </thead>\n",
       "  <tbody>\n",
       "    <tr>\n",
       "      <th>0</th>\n",
       "      <td>1.0</td>\n",
       "      <td>H</td>\n",
       "    </tr>\n",
       "    <tr>\n",
       "      <th>1</th>\n",
       "      <td>1.0</td>\n",
       "      <td>T</td>\n",
       "    </tr>\n",
       "  </tbody>\n",
       "</table>\n",
       "</div>"
      ],
      "text/plain": [
       "     w faces\n",
       "0  1.0     H\n",
       "1  1.0     T"
      ]
     },
     "execution_count": 69,
     "metadata": {},
     "output_type": "execute_result"
    }
   ],
   "source": [
    "from Die_Class import *\n",
    "faces_array = np.array(['H', 'T'], dtype = str)\n",
    "fair_coin = Die(faces_array)\n",
    "fair_coin.view_faces_weights()"
   ]
  },
  {
   "cell_type": "code",
   "execution_count": 70,
   "id": "a44b8f81",
   "metadata": {},
   "outputs": [
    {
     "data": {
      "text/html": [
       "<div>\n",
       "<style scoped>\n",
       "    .dataframe tbody tr th:only-of-type {\n",
       "        vertical-align: middle;\n",
       "    }\n",
       "\n",
       "    .dataframe tbody tr th {\n",
       "        vertical-align: top;\n",
       "    }\n",
       "\n",
       "    .dataframe thead th {\n",
       "        text-align: right;\n",
       "    }\n",
       "</style>\n",
       "<table border=\"1\" class=\"dataframe\">\n",
       "  <thead>\n",
       "    <tr style=\"text-align: right;\">\n",
       "      <th></th>\n",
       "      <th>w</th>\n",
       "      <th>faces</th>\n",
       "    </tr>\n",
       "  </thead>\n",
       "  <tbody>\n",
       "    <tr>\n",
       "      <th>0</th>\n",
       "      <td>5.0</td>\n",
       "      <td>H</td>\n",
       "    </tr>\n",
       "    <tr>\n",
       "      <th>1</th>\n",
       "      <td>1.0</td>\n",
       "      <td>T</td>\n",
       "    </tr>\n",
       "  </tbody>\n",
       "</table>\n",
       "</div>"
      ],
      "text/plain": [
       "     w faces\n",
       "0  5.0     H\n",
       "1  1.0     T"
      ]
     },
     "execution_count": 70,
     "metadata": {},
     "output_type": "execute_result"
    }
   ],
   "source": [
    "unfair_coin = Die(faces_array)\n",
    "unfair_coin.change_weight_of_a_single_side('H', 5)\n",
    "unfair_coin.view_faces_weights()"
   ]
  },
  {
   "cell_type": "markdown",
   "id": "a45e1471",
   "metadata": {},
   "source": [
    "2. Play a game of 1000 flips of three coins with all fair dice. "
   ]
  },
  {
   "cell_type": "code",
   "execution_count": 73,
   "id": "23715a36",
   "metadata": {},
   "outputs": [],
   "source": [
    "!python \"/Users/kys/Downloads/DS5100/Project/Game_Class.py\""
   ]
  },
  {
   "cell_type": "code",
   "execution_count": 78,
   "id": "ad18f706",
   "metadata": {},
   "outputs": [
    {
     "data": {
      "text/html": [
       "<div>\n",
       "<style scoped>\n",
       "    .dataframe tbody tr th:only-of-type {\n",
       "        vertical-align: middle;\n",
       "    }\n",
       "\n",
       "    .dataframe tbody tr th {\n",
       "        vertical-align: top;\n",
       "    }\n",
       "\n",
       "    .dataframe thead th {\n",
       "        text-align: right;\n",
       "    }\n",
       "</style>\n",
       "<table border=\"1\" class=\"dataframe\">\n",
       "  <thead>\n",
       "    <tr style=\"text-align: right;\">\n",
       "      <th></th>\n",
       "      <th>0</th>\n",
       "      <th>1</th>\n",
       "      <th>2</th>\n",
       "    </tr>\n",
       "    <tr>\n",
       "      <th>roll_num_index</th>\n",
       "      <th></th>\n",
       "      <th></th>\n",
       "      <th></th>\n",
       "    </tr>\n",
       "  </thead>\n",
       "  <tbody>\n",
       "    <tr>\n",
       "      <th>0</th>\n",
       "      <td>[1.0, &lt;Die_Class.Die object at 0x7fb2d843a1c0&gt;]</td>\n",
       "      <td>[1.0, &lt;Die_Class.Die object at 0x7fb2d843a1c0&gt;]</td>\n",
       "      <td>[1.0, &lt;Die_Class.Die object at 0x7fb30a1c6f10&gt;]</td>\n",
       "    </tr>\n",
       "    <tr>\n",
       "      <th>1</th>\n",
       "      <td>[1.0, &lt;Die_Class.Die object at 0x7fb2e91bbd00&gt;]</td>\n",
       "      <td>[1.0, &lt;Die_Class.Die object at 0x7fb2d843a1c0&gt;]</td>\n",
       "      <td>[1.0, &lt;Die_Class.Die object at 0x7fb2d843a1c0&gt;]</td>\n",
       "    </tr>\n",
       "    <tr>\n",
       "      <th>2</th>\n",
       "      <td>[1.0, &lt;Die_Class.Die object at 0x7fb2e91bbd00&gt;]</td>\n",
       "      <td>[1.0, &lt;Die_Class.Die object at 0x7fb2e91bbd00&gt;]</td>\n",
       "      <td>[1.0, &lt;Die_Class.Die object at 0x7fb2e91bbd00&gt;]</td>\n",
       "    </tr>\n",
       "    <tr>\n",
       "      <th>3</th>\n",
       "      <td>[1.0, &lt;Die_Class.Die object at 0x7fb2d843a1c0&gt;]</td>\n",
       "      <td>[1.0, &lt;Die_Class.Die object at 0x7fb2e91bbd00&gt;]</td>\n",
       "      <td>[1.0, &lt;Die_Class.Die object at 0x7fb2d843a1c0&gt;]</td>\n",
       "    </tr>\n",
       "    <tr>\n",
       "      <th>4</th>\n",
       "      <td>[1.0, &lt;Die_Class.Die object at 0x7fb30a1c6f10&gt;]</td>\n",
       "      <td>[1.0, &lt;Die_Class.Die object at 0x7fb2e91bbd00&gt;]</td>\n",
       "      <td>[1.0, &lt;Die_Class.Die object at 0x7fb2e91bbd00&gt;]</td>\n",
       "    </tr>\n",
       "    <tr>\n",
       "      <th>...</th>\n",
       "      <td>...</td>\n",
       "      <td>...</td>\n",
       "      <td>...</td>\n",
       "    </tr>\n",
       "    <tr>\n",
       "      <th>995</th>\n",
       "      <td>[1.0, &lt;Die_Class.Die object at 0x7fb2d843a1c0&gt;]</td>\n",
       "      <td>[1.0, &lt;Die_Class.Die object at 0x7fb30a1c6f10&gt;]</td>\n",
       "      <td>[1.0, &lt;Die_Class.Die object at 0x7fb2d843a1c0&gt;]</td>\n",
       "    </tr>\n",
       "    <tr>\n",
       "      <th>996</th>\n",
       "      <td>[1.0, &lt;Die_Class.Die object at 0x7fb2d843a1c0&gt;]</td>\n",
       "      <td>[1.0, &lt;Die_Class.Die object at 0x7fb2e91bbd00&gt;]</td>\n",
       "      <td>[1.0, &lt;Die_Class.Die object at 0x7fb30a1c6f10&gt;]</td>\n",
       "    </tr>\n",
       "    <tr>\n",
       "      <th>997</th>\n",
       "      <td>[1.0, &lt;Die_Class.Die object at 0x7fb2e91bbd00&gt;]</td>\n",
       "      <td>[1.0, &lt;Die_Class.Die object at 0x7fb2d843a1c0&gt;]</td>\n",
       "      <td>[1.0, &lt;Die_Class.Die object at 0x7fb30a1c6f10&gt;]</td>\n",
       "    </tr>\n",
       "    <tr>\n",
       "      <th>998</th>\n",
       "      <td>[1.0, &lt;Die_Class.Die object at 0x7fb30a1c6f10&gt;]</td>\n",
       "      <td>[1.0, &lt;Die_Class.Die object at 0x7fb2e91bbd00&gt;]</td>\n",
       "      <td>[1.0, &lt;Die_Class.Die object at 0x7fb2d843a1c0&gt;]</td>\n",
       "    </tr>\n",
       "    <tr>\n",
       "      <th>999</th>\n",
       "      <td>[1.0, &lt;Die_Class.Die object at 0x7fb30a1c6f10&gt;]</td>\n",
       "      <td>[1.0, &lt;Die_Class.Die object at 0x7fb30a1c6f10&gt;]</td>\n",
       "      <td>[1.0, &lt;Die_Class.Die object at 0x7fb2e91bbd00&gt;]</td>\n",
       "    </tr>\n",
       "  </tbody>\n",
       "</table>\n",
       "<p>1000 rows × 3 columns</p>\n",
       "</div>"
      ],
      "text/plain": [
       "                                                              0  \\\n",
       "roll_num_index                                                    \n",
       "0               [1.0, <Die_Class.Die object at 0x7fb2d843a1c0>]   \n",
       "1               [1.0, <Die_Class.Die object at 0x7fb2e91bbd00>]   \n",
       "2               [1.0, <Die_Class.Die object at 0x7fb2e91bbd00>]   \n",
       "3               [1.0, <Die_Class.Die object at 0x7fb2d843a1c0>]   \n",
       "4               [1.0, <Die_Class.Die object at 0x7fb30a1c6f10>]   \n",
       "...                                                         ...   \n",
       "995             [1.0, <Die_Class.Die object at 0x7fb2d843a1c0>]   \n",
       "996             [1.0, <Die_Class.Die object at 0x7fb2d843a1c0>]   \n",
       "997             [1.0, <Die_Class.Die object at 0x7fb2e91bbd00>]   \n",
       "998             [1.0, <Die_Class.Die object at 0x7fb30a1c6f10>]   \n",
       "999             [1.0, <Die_Class.Die object at 0x7fb30a1c6f10>]   \n",
       "\n",
       "                                                              1  \\\n",
       "roll_num_index                                                    \n",
       "0               [1.0, <Die_Class.Die object at 0x7fb2d843a1c0>]   \n",
       "1               [1.0, <Die_Class.Die object at 0x7fb2d843a1c0>]   \n",
       "2               [1.0, <Die_Class.Die object at 0x7fb2e91bbd00>]   \n",
       "3               [1.0, <Die_Class.Die object at 0x7fb2e91bbd00>]   \n",
       "4               [1.0, <Die_Class.Die object at 0x7fb2e91bbd00>]   \n",
       "...                                                         ...   \n",
       "995             [1.0, <Die_Class.Die object at 0x7fb30a1c6f10>]   \n",
       "996             [1.0, <Die_Class.Die object at 0x7fb2e91bbd00>]   \n",
       "997             [1.0, <Die_Class.Die object at 0x7fb2d843a1c0>]   \n",
       "998             [1.0, <Die_Class.Die object at 0x7fb2e91bbd00>]   \n",
       "999             [1.0, <Die_Class.Die object at 0x7fb30a1c6f10>]   \n",
       "\n",
       "                                                              2  \n",
       "roll_num_index                                                   \n",
       "0               [1.0, <Die_Class.Die object at 0x7fb30a1c6f10>]  \n",
       "1               [1.0, <Die_Class.Die object at 0x7fb2d843a1c0>]  \n",
       "2               [1.0, <Die_Class.Die object at 0x7fb2e91bbd00>]  \n",
       "3               [1.0, <Die_Class.Die object at 0x7fb2d843a1c0>]  \n",
       "4               [1.0, <Die_Class.Die object at 0x7fb2e91bbd00>]  \n",
       "...                                                         ...  \n",
       "995             [1.0, <Die_Class.Die object at 0x7fb2d843a1c0>]  \n",
       "996             [1.0, <Die_Class.Die object at 0x7fb30a1c6f10>]  \n",
       "997             [1.0, <Die_Class.Die object at 0x7fb30a1c6f10>]  \n",
       "998             [1.0, <Die_Class.Die object at 0x7fb2d843a1c0>]  \n",
       "999             [1.0, <Die_Class.Die object at 0x7fb2e91bbd00>]  \n",
       "\n",
       "[1000 rows x 3 columns]"
      ]
     },
     "execution_count": 78,
     "metadata": {},
     "output_type": "execute_result"
    }
   ],
   "source": [
    "from Game_Class import *\n",
    "three_fair_coins = []\n",
    "faces_array = np.array(['H', 'T'], dtype = str)\n",
    "for i in range(0,3):\n",
    "    fair_coin = Die(faces_array)\n",
    "    three_fair_coins.append(fair_coin)\n",
    "#.append(fair_coin).append(fair_coin)\n",
    "game_with_three_fair_coins = Game(three_fair_coins)\n",
    "game_with_three_fair_coins.play(1000)\n",
    "game_with_three_fair_coins.result_of_recent_play('wide')\n"
   ]
  },
  {
   "cell_type": "code",
   "execution_count": null,
   "id": "9d5ac689",
   "metadata": {},
   "outputs": [],
   "source": []
  }
 ],
 "metadata": {
  "kernelspec": {
   "display_name": "Python 3 (ipykernel)",
   "language": "python",
   "name": "python3"
  },
  "language_info": {
   "codemirror_mode": {
    "name": "ipython",
    "version": 3
   },
   "file_extension": ".py",
   "mimetype": "text/x-python",
   "name": "python",
   "nbconvert_exporter": "python",
   "pygments_lexer": "ipython3",
   "version": "3.9.12"
  }
 },
 "nbformat": 4,
 "nbformat_minor": 5
}
